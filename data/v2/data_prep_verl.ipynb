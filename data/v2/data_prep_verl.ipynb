{
 "cells": [
  {
   "cell_type": "markdown",
   "metadata": {},
   "source": [
    "# Custom Data Preprocessing for JPF/SPF-WCA Dataset\n",
    "\n",
    "This script demonstrates how we perform our own data transformations for our own custom dataset. We implement `make_map_fn` functions to extract answers and format each example according to the required structure. The steps include:\n",
    "\n",
    "- Loading the dataset that we created manually.\n",
    "- Processing each example using a custom mapping function:\n",
    "    - Constructing a data item with the fields: `data_source`, `prompt`, `ability`, `reward_model`, and `extra_info`.\n",
    "- Saving the processed dataset in parquet format locally.\n",
    "- Copying the local data to HDFS.\n",
    "\n",
    "You can modify these functions to suit your own dataset or task requirements.\n"
   ]
  },
  {
   "cell_type": "code",
   "execution_count": 1,
   "metadata": {},
   "outputs": [],
   "source": [
    "import pandas as pd\n",
    "import os\n",
    "dataframe =[]\n",
    "\n",
    "directory_base = \"work/invaR1ant-veRL/data/v2/output/base/data.parquet\"\n",
    "directory_instruct = \"work/invaR1ant-veRL/data/v2/output/instruct/data.parquet\"\n",
    "\n",
    "\n",
    "dataframe_base = pd.read_parquet(directory_base)\n",
    "dataframe_instruct = pd.read_parquet(directory_instruct)"
   ]
  },
  {
   "cell_type": "code",
   "execution_count": 2,
   "metadata": {},
   "outputs": [
    {
     "data": {
      "text/plain": [
       "problem                                           SimpleAscendingLast\n",
       "example_indices                                                   [1]\n",
       "examples                             [{'index': 1, 'solution': None}]\n",
       "question            A conversation between User and Assistant. The...\n",
       "answer_index                                                        2\n",
       "answer_constants     (declare-const in0 Int)\\n(declare-const in1 Int)\n",
       "answer_solution                               (assert  ( <  in1 in0))\n",
       "Name: 0, dtype: object"
      ]
     },
     "execution_count": 2,
     "metadata": {},
     "output_type": "execute_result"
    }
   ],
   "source": [
    "dataframe_base.loc[0]"
   ]
  },
  {
   "cell_type": "code",
   "execution_count": 3,
   "metadata": {},
   "outputs": [
    {
     "data": {
      "text/plain": [
       "problem                                           SimpleAscendingLast\n",
       "example_indices                                                   [1]\n",
       "examples                             [{'index': 1, 'solution': None}]\n",
       "question            <|im_start|>system\\nYou are a helpful assistan...\n",
       "answer_index                                                        2\n",
       "answer_constants     (declare-const in0 Int)\\n(declare-const in1 Int)\n",
       "answer_solution                               (assert  ( <  in1 in0))\n",
       "Name: 0, dtype: object"
      ]
     },
     "execution_count": 3,
     "metadata": {},
     "output_type": "execute_result"
    }
   ],
   "source": [
    "dataframe_instruct.loc[0]"
   ]
  },
  {
   "cell_type": "code",
   "execution_count": 4,
   "metadata": {},
   "outputs": [
    {
     "data": {
      "text/plain": [
       "np.True_"
      ]
     },
     "execution_count": 4,
     "metadata": {},
     "output_type": "execute_result"
    }
   ],
   "source": [
    "# Check if any row the examples array's solution is all None\n",
    "dataframe_base[\"examples\"].apply(lambda x: all([e[\"solution\"] is None for e in x])).any()\n",
    "dataframe_instruct[\"examples\"].apply(lambda x: all([e[\"solution\"] is None for e in x])).any()"
   ]
  },
  {
   "cell_type": "code",
   "execution_count": 5,
   "metadata": {},
   "outputs": [
    {
     "data": {
      "text/html": [
       "<div>\n",
       "<style scoped>\n",
       "    .dataframe tbody tr th:only-of-type {\n",
       "        vertical-align: middle;\n",
       "    }\n",
       "\n",
       "    .dataframe tbody tr th {\n",
       "        vertical-align: top;\n",
       "    }\n",
       "\n",
       "    .dataframe thead th {\n",
       "        text-align: right;\n",
       "    }\n",
       "</style>\n",
       "<table border=\"1\" class=\"dataframe\">\n",
       "  <thead>\n",
       "    <tr style=\"text-align: right;\">\n",
       "      <th></th>\n",
       "      <th>problem</th>\n",
       "      <th>example_indices</th>\n",
       "      <th>examples</th>\n",
       "      <th>question</th>\n",
       "      <th>answer_index</th>\n",
       "      <th>answer_constants</th>\n",
       "      <th>answer_solution</th>\n",
       "    </tr>\n",
       "  </thead>\n",
       "  <tbody>\n",
       "    <tr>\n",
       "      <th>0</th>\n",
       "      <td>SimpleAscendingLast</td>\n",
       "      <td>[1]</td>\n",
       "      <td>[{'index': 1, 'solution': None}]</td>\n",
       "      <td>A conversation between User and Assistant. The...</td>\n",
       "      <td>2</td>\n",
       "      <td>(declare-const in0 Int)\\n(declare-const in1 Int)</td>\n",
       "      <td>(assert  ( &lt;  in1 in0))</td>\n",
       "    </tr>\n",
       "    <tr>\n",
       "      <th>1</th>\n",
       "      <td>SimpleAscendingLast</td>\n",
       "      <td>[1]</td>\n",
       "      <td>[{'index': 1, 'solution': None}]</td>\n",
       "      <td>A conversation between User and Assistant. The...</td>\n",
       "      <td>3</td>\n",
       "      <td>(declare-const in0 Int)\\n(declare-const in2 In...</td>\n",
       "      <td>(assert (and  ( &lt;  in0 in1)  ( &lt;  in2 in0)))</td>\n",
       "    </tr>\n",
       "    <tr>\n",
       "      <th>2</th>\n",
       "      <td>SimpleAscendingLast</td>\n",
       "      <td>[1]</td>\n",
       "      <td>[{'index': 1, 'solution': None}]</td>\n",
       "      <td>A conversation between User and Assistant. The...</td>\n",
       "      <td>4</td>\n",
       "      <td>(declare-const in0 Int)\\n(declare-const in2 In...</td>\n",
       "      <td>(assert (and (and  ( &lt;  in0 in1)  ( &lt;  in1 in2...</td>\n",
       "    </tr>\n",
       "    <tr>\n",
       "      <th>3</th>\n",
       "      <td>SimpleAscendingLast</td>\n",
       "      <td>[1]</td>\n",
       "      <td>[{'index': 1, 'solution': None}]</td>\n",
       "      <td>A conversation between User and Assistant. The...</td>\n",
       "      <td>5</td>\n",
       "      <td>(declare-const in0 Int)\\n(declare-const in2 In...</td>\n",
       "      <td>(assert (and (and (and  ( &lt;  in0 in1)  ( &lt;  in...</td>\n",
       "    </tr>\n",
       "    <tr>\n",
       "      <th>4</th>\n",
       "      <td>SimpleAscendingLast</td>\n",
       "      <td>[1]</td>\n",
       "      <td>[{'index': 1, 'solution': None}]</td>\n",
       "      <td>A conversation between User and Assistant. The...</td>\n",
       "      <td>6</td>\n",
       "      <td>(declare-const in5 Int)\\n(declare-const in0 In...</td>\n",
       "      <td>(assert (and (and (and (and  ( &lt;  in0 in1)  ( ...</td>\n",
       "    </tr>\n",
       "    <tr>\n",
       "      <th>...</th>\n",
       "      <td>...</td>\n",
       "      <td>...</td>\n",
       "      <td>...</td>\n",
       "      <td>...</td>\n",
       "      <td>...</td>\n",
       "      <td>...</td>\n",
       "      <td>...</td>\n",
       "    </tr>\n",
       "    <tr>\n",
       "      <th>23625</th>\n",
       "      <td>ComplexHalfEqual</td>\n",
       "      <td>[1]</td>\n",
       "      <td>[{'index': 1, 'solution': None}]</td>\n",
       "      <td>A conversation between User and Assistant. The...</td>\n",
       "      <td>2</td>\n",
       "      <td>(declare-const in0 Int)\\n(declare-const in1 Int)</td>\n",
       "      <td>(assert  ( =  in0 in1))</td>\n",
       "    </tr>\n",
       "    <tr>\n",
       "      <th>23626</th>\n",
       "      <td>ComplexHalfEqual</td>\n",
       "      <td>[1]</td>\n",
       "      <td>[{'index': 1, 'solution': None}]</td>\n",
       "      <td>A conversation between User and Assistant. The...</td>\n",
       "      <td>3</td>\n",
       "      <td>(declare-const in0 Int)\\n(declare-const in2 In...</td>\n",
       "      <td>(assert (and  ( =  in0 in1)  ( &lt;  in1 in2)))</td>\n",
       "    </tr>\n",
       "    <tr>\n",
       "      <th>23627</th>\n",
       "      <td>ComplexHalfEqual</td>\n",
       "      <td>[1]</td>\n",
       "      <td>[{'index': 1, 'solution': None}]</td>\n",
       "      <td>A conversation between User and Assistant. The...</td>\n",
       "      <td>4</td>\n",
       "      <td>(declare-const in0 Int)\\n(declare-const in2 In...</td>\n",
       "      <td>(assert (and (and  ( =  in0 in1)  ( =  in1 in2...</td>\n",
       "    </tr>\n",
       "    <tr>\n",
       "      <th>23628</th>\n",
       "      <td>ComplexHalfEqual</td>\n",
       "      <td>[1]</td>\n",
       "      <td>[{'index': 1, 'solution': None}]</td>\n",
       "      <td>A conversation between User and Assistant. The...</td>\n",
       "      <td>5</td>\n",
       "      <td>(declare-const in0 Int)\\n(declare-const in2 In...</td>\n",
       "      <td>(assert (and (and (and  ( =  in0 in1)  ( =  in...</td>\n",
       "    </tr>\n",
       "    <tr>\n",
       "      <th>23629</th>\n",
       "      <td>ComplexHalfEqual</td>\n",
       "      <td>[1]</td>\n",
       "      <td>[{'index': 1, 'solution': None}]</td>\n",
       "      <td>A conversation between User and Assistant. The...</td>\n",
       "      <td>6</td>\n",
       "      <td>(declare-const in5 Int)\\n(declare-const in0 In...</td>\n",
       "      <td>(assert (and (and (and (and  ( =  in0 in1)  ( ...</td>\n",
       "    </tr>\n",
       "  </tbody>\n",
       "</table>\n",
       "<p>1155 rows × 7 columns</p>\n",
       "</div>"
      ],
      "text/plain": [
       "                   problem example_indices                          examples  \\\n",
       "0      SimpleAscendingLast             [1]  [{'index': 1, 'solution': None}]   \n",
       "1      SimpleAscendingLast             [1]  [{'index': 1, 'solution': None}]   \n",
       "2      SimpleAscendingLast             [1]  [{'index': 1, 'solution': None}]   \n",
       "3      SimpleAscendingLast             [1]  [{'index': 1, 'solution': None}]   \n",
       "4      SimpleAscendingLast             [1]  [{'index': 1, 'solution': None}]   \n",
       "...                    ...             ...                               ...   \n",
       "23625     ComplexHalfEqual             [1]  [{'index': 1, 'solution': None}]   \n",
       "23626     ComplexHalfEqual             [1]  [{'index': 1, 'solution': None}]   \n",
       "23627     ComplexHalfEqual             [1]  [{'index': 1, 'solution': None}]   \n",
       "23628     ComplexHalfEqual             [1]  [{'index': 1, 'solution': None}]   \n",
       "23629     ComplexHalfEqual             [1]  [{'index': 1, 'solution': None}]   \n",
       "\n",
       "                                                question  answer_index  \\\n",
       "0      A conversation between User and Assistant. The...             2   \n",
       "1      A conversation between User and Assistant. The...             3   \n",
       "2      A conversation between User and Assistant. The...             4   \n",
       "3      A conversation between User and Assistant. The...             5   \n",
       "4      A conversation between User and Assistant. The...             6   \n",
       "...                                                  ...           ...   \n",
       "23625  A conversation between User and Assistant. The...             2   \n",
       "23626  A conversation between User and Assistant. The...             3   \n",
       "23627  A conversation between User and Assistant. The...             4   \n",
       "23628  A conversation between User and Assistant. The...             5   \n",
       "23629  A conversation between User and Assistant. The...             6   \n",
       "\n",
       "                                        answer_constants  \\\n",
       "0       (declare-const in0 Int)\\n(declare-const in1 Int)   \n",
       "1      (declare-const in0 Int)\\n(declare-const in2 In...   \n",
       "2      (declare-const in0 Int)\\n(declare-const in2 In...   \n",
       "3      (declare-const in0 Int)\\n(declare-const in2 In...   \n",
       "4      (declare-const in5 Int)\\n(declare-const in0 In...   \n",
       "...                                                  ...   \n",
       "23625   (declare-const in0 Int)\\n(declare-const in1 Int)   \n",
       "23626  (declare-const in0 Int)\\n(declare-const in2 In...   \n",
       "23627  (declare-const in0 Int)\\n(declare-const in2 In...   \n",
       "23628  (declare-const in0 Int)\\n(declare-const in2 In...   \n",
       "23629  (declare-const in5 Int)\\n(declare-const in0 In...   \n",
       "\n",
       "                                         answer_solution  \n",
       "0                                (assert  ( <  in1 in0))  \n",
       "1           (assert (and  ( <  in0 in1)  ( <  in2 in0)))  \n",
       "2      (assert (and (and  ( <  in0 in1)  ( <  in1 in2...  \n",
       "3      (assert (and (and (and  ( <  in0 in1)  ( <  in...  \n",
       "4      (assert (and (and (and (and  ( <  in0 in1)  ( ...  \n",
       "...                                                  ...  \n",
       "23625                            (assert  ( =  in0 in1))  \n",
       "23626       (assert (and  ( =  in0 in1)  ( <  in1 in2)))  \n",
       "23627  (assert (and (and  ( =  in0 in1)  ( =  in1 in2...  \n",
       "23628  (assert (and (and (and  ( =  in0 in1)  ( =  in...  \n",
       "23629  (assert (and (and (and (and  ( =  in0 in1)  ( ...  \n",
       "\n",
       "[1155 rows x 7 columns]"
      ]
     },
     "execution_count": 5,
     "metadata": {},
     "output_type": "execute_result"
    }
   ],
   "source": [
    "# Show all the rows that have examples with all None solutions\n",
    "dataframe_base[dataframe_base[\"examples\"].apply(lambda x: all([e[\"solution\"] is None for e in x]))]\n"
   ]
  },
  {
   "cell_type": "code",
   "execution_count": 6,
   "metadata": {},
   "outputs": [
    {
     "data": {
      "text/html": [
       "<div>\n",
       "<style scoped>\n",
       "    .dataframe tbody tr th:only-of-type {\n",
       "        vertical-align: middle;\n",
       "    }\n",
       "\n",
       "    .dataframe tbody tr th {\n",
       "        vertical-align: top;\n",
       "    }\n",
       "\n",
       "    .dataframe thead th {\n",
       "        text-align: right;\n",
       "    }\n",
       "</style>\n",
       "<table border=\"1\" class=\"dataframe\">\n",
       "  <thead>\n",
       "    <tr style=\"text-align: right;\">\n",
       "      <th></th>\n",
       "      <th>problem</th>\n",
       "      <th>example_indices</th>\n",
       "      <th>examples</th>\n",
       "      <th>question</th>\n",
       "      <th>answer_index</th>\n",
       "      <th>answer_constants</th>\n",
       "      <th>answer_solution</th>\n",
       "    </tr>\n",
       "  </thead>\n",
       "  <tbody>\n",
       "    <tr>\n",
       "      <th>0</th>\n",
       "      <td>SimpleAscendingLast</td>\n",
       "      <td>[1]</td>\n",
       "      <td>[{'index': 1, 'solution': None}]</td>\n",
       "      <td>&lt;|im_start|&gt;system\\nYou are a helpful assistan...</td>\n",
       "      <td>2</td>\n",
       "      <td>(declare-const in0 Int)\\n(declare-const in1 Int)</td>\n",
       "      <td>(assert  ( &lt;  in1 in0))</td>\n",
       "    </tr>\n",
       "    <tr>\n",
       "      <th>1</th>\n",
       "      <td>SimpleAscendingLast</td>\n",
       "      <td>[1]</td>\n",
       "      <td>[{'index': 1, 'solution': None}]</td>\n",
       "      <td>&lt;|im_start|&gt;system\\nYou are a helpful assistan...</td>\n",
       "      <td>3</td>\n",
       "      <td>(declare-const in0 Int)\\n(declare-const in2 In...</td>\n",
       "      <td>(assert (and  ( &lt;  in0 in1)  ( &lt;  in2 in0)))</td>\n",
       "    </tr>\n",
       "    <tr>\n",
       "      <th>2</th>\n",
       "      <td>SimpleAscendingLast</td>\n",
       "      <td>[1]</td>\n",
       "      <td>[{'index': 1, 'solution': None}]</td>\n",
       "      <td>&lt;|im_start|&gt;system\\nYou are a helpful assistan...</td>\n",
       "      <td>4</td>\n",
       "      <td>(declare-const in0 Int)\\n(declare-const in2 In...</td>\n",
       "      <td>(assert (and (and  ( &lt;  in0 in1)  ( &lt;  in1 in2...</td>\n",
       "    </tr>\n",
       "    <tr>\n",
       "      <th>3</th>\n",
       "      <td>SimpleAscendingLast</td>\n",
       "      <td>[1]</td>\n",
       "      <td>[{'index': 1, 'solution': None}]</td>\n",
       "      <td>&lt;|im_start|&gt;system\\nYou are a helpful assistan...</td>\n",
       "      <td>5</td>\n",
       "      <td>(declare-const in0 Int)\\n(declare-const in2 In...</td>\n",
       "      <td>(assert (and (and (and  ( &lt;  in0 in1)  ( &lt;  in...</td>\n",
       "    </tr>\n",
       "    <tr>\n",
       "      <th>4</th>\n",
       "      <td>SimpleAscendingLast</td>\n",
       "      <td>[1]</td>\n",
       "      <td>[{'index': 1, 'solution': None}]</td>\n",
       "      <td>&lt;|im_start|&gt;system\\nYou are a helpful assistan...</td>\n",
       "      <td>6</td>\n",
       "      <td>(declare-const in5 Int)\\n(declare-const in0 In...</td>\n",
       "      <td>(assert (and (and (and (and  ( &lt;  in0 in1)  ( ...</td>\n",
       "    </tr>\n",
       "    <tr>\n",
       "      <th>...</th>\n",
       "      <td>...</td>\n",
       "      <td>...</td>\n",
       "      <td>...</td>\n",
       "      <td>...</td>\n",
       "      <td>...</td>\n",
       "      <td>...</td>\n",
       "      <td>...</td>\n",
       "    </tr>\n",
       "    <tr>\n",
       "      <th>23625</th>\n",
       "      <td>ComplexHalfEqual</td>\n",
       "      <td>[1]</td>\n",
       "      <td>[{'index': 1, 'solution': None}]</td>\n",
       "      <td>&lt;|im_start|&gt;system\\nYou are a helpful assistan...</td>\n",
       "      <td>2</td>\n",
       "      <td>(declare-const in0 Int)\\n(declare-const in1 Int)</td>\n",
       "      <td>(assert  ( =  in0 in1))</td>\n",
       "    </tr>\n",
       "    <tr>\n",
       "      <th>23626</th>\n",
       "      <td>ComplexHalfEqual</td>\n",
       "      <td>[1]</td>\n",
       "      <td>[{'index': 1, 'solution': None}]</td>\n",
       "      <td>&lt;|im_start|&gt;system\\nYou are a helpful assistan...</td>\n",
       "      <td>3</td>\n",
       "      <td>(declare-const in0 Int)\\n(declare-const in2 In...</td>\n",
       "      <td>(assert (and  ( =  in0 in1)  ( &lt;  in1 in2)))</td>\n",
       "    </tr>\n",
       "    <tr>\n",
       "      <th>23627</th>\n",
       "      <td>ComplexHalfEqual</td>\n",
       "      <td>[1]</td>\n",
       "      <td>[{'index': 1, 'solution': None}]</td>\n",
       "      <td>&lt;|im_start|&gt;system\\nYou are a helpful assistan...</td>\n",
       "      <td>4</td>\n",
       "      <td>(declare-const in0 Int)\\n(declare-const in2 In...</td>\n",
       "      <td>(assert (and (and  ( =  in0 in1)  ( =  in1 in2...</td>\n",
       "    </tr>\n",
       "    <tr>\n",
       "      <th>23628</th>\n",
       "      <td>ComplexHalfEqual</td>\n",
       "      <td>[1]</td>\n",
       "      <td>[{'index': 1, 'solution': None}]</td>\n",
       "      <td>&lt;|im_start|&gt;system\\nYou are a helpful assistan...</td>\n",
       "      <td>5</td>\n",
       "      <td>(declare-const in0 Int)\\n(declare-const in2 In...</td>\n",
       "      <td>(assert (and (and (and  ( =  in0 in1)  ( =  in...</td>\n",
       "    </tr>\n",
       "    <tr>\n",
       "      <th>23629</th>\n",
       "      <td>ComplexHalfEqual</td>\n",
       "      <td>[1]</td>\n",
       "      <td>[{'index': 1, 'solution': None}]</td>\n",
       "      <td>&lt;|im_start|&gt;system\\nYou are a helpful assistan...</td>\n",
       "      <td>6</td>\n",
       "      <td>(declare-const in5 Int)\\n(declare-const in0 In...</td>\n",
       "      <td>(assert (and (and (and (and  ( =  in0 in1)  ( ...</td>\n",
       "    </tr>\n",
       "  </tbody>\n",
       "</table>\n",
       "<p>1155 rows × 7 columns</p>\n",
       "</div>"
      ],
      "text/plain": [
       "                   problem example_indices                          examples  \\\n",
       "0      SimpleAscendingLast             [1]  [{'index': 1, 'solution': None}]   \n",
       "1      SimpleAscendingLast             [1]  [{'index': 1, 'solution': None}]   \n",
       "2      SimpleAscendingLast             [1]  [{'index': 1, 'solution': None}]   \n",
       "3      SimpleAscendingLast             [1]  [{'index': 1, 'solution': None}]   \n",
       "4      SimpleAscendingLast             [1]  [{'index': 1, 'solution': None}]   \n",
       "...                    ...             ...                               ...   \n",
       "23625     ComplexHalfEqual             [1]  [{'index': 1, 'solution': None}]   \n",
       "23626     ComplexHalfEqual             [1]  [{'index': 1, 'solution': None}]   \n",
       "23627     ComplexHalfEqual             [1]  [{'index': 1, 'solution': None}]   \n",
       "23628     ComplexHalfEqual             [1]  [{'index': 1, 'solution': None}]   \n",
       "23629     ComplexHalfEqual             [1]  [{'index': 1, 'solution': None}]   \n",
       "\n",
       "                                                question  answer_index  \\\n",
       "0      <|im_start|>system\\nYou are a helpful assistan...             2   \n",
       "1      <|im_start|>system\\nYou are a helpful assistan...             3   \n",
       "2      <|im_start|>system\\nYou are a helpful assistan...             4   \n",
       "3      <|im_start|>system\\nYou are a helpful assistan...             5   \n",
       "4      <|im_start|>system\\nYou are a helpful assistan...             6   \n",
       "...                                                  ...           ...   \n",
       "23625  <|im_start|>system\\nYou are a helpful assistan...             2   \n",
       "23626  <|im_start|>system\\nYou are a helpful assistan...             3   \n",
       "23627  <|im_start|>system\\nYou are a helpful assistan...             4   \n",
       "23628  <|im_start|>system\\nYou are a helpful assistan...             5   \n",
       "23629  <|im_start|>system\\nYou are a helpful assistan...             6   \n",
       "\n",
       "                                        answer_constants  \\\n",
       "0       (declare-const in0 Int)\\n(declare-const in1 Int)   \n",
       "1      (declare-const in0 Int)\\n(declare-const in2 In...   \n",
       "2      (declare-const in0 Int)\\n(declare-const in2 In...   \n",
       "3      (declare-const in0 Int)\\n(declare-const in2 In...   \n",
       "4      (declare-const in5 Int)\\n(declare-const in0 In...   \n",
       "...                                                  ...   \n",
       "23625   (declare-const in0 Int)\\n(declare-const in1 Int)   \n",
       "23626  (declare-const in0 Int)\\n(declare-const in2 In...   \n",
       "23627  (declare-const in0 Int)\\n(declare-const in2 In...   \n",
       "23628  (declare-const in0 Int)\\n(declare-const in2 In...   \n",
       "23629  (declare-const in5 Int)\\n(declare-const in0 In...   \n",
       "\n",
       "                                         answer_solution  \n",
       "0                                (assert  ( <  in1 in0))  \n",
       "1           (assert (and  ( <  in0 in1)  ( <  in2 in0)))  \n",
       "2      (assert (and (and  ( <  in0 in1)  ( <  in1 in2...  \n",
       "3      (assert (and (and (and  ( <  in0 in1)  ( <  in...  \n",
       "4      (assert (and (and (and (and  ( <  in0 in1)  ( ...  \n",
       "...                                                  ...  \n",
       "23625                            (assert  ( =  in0 in1))  \n",
       "23626       (assert (and  ( =  in0 in1)  ( <  in1 in2)))  \n",
       "23627  (assert (and (and  ( =  in0 in1)  ( =  in1 in2...  \n",
       "23628  (assert (and (and (and  ( =  in0 in1)  ( =  in...  \n",
       "23629  (assert (and (and (and (and  ( =  in0 in1)  ( ...  \n",
       "\n",
       "[1155 rows x 7 columns]"
      ]
     },
     "execution_count": 6,
     "metadata": {},
     "output_type": "execute_result"
    }
   ],
   "source": [
    "dataframe_instruct[dataframe_instruct[\"examples\"].apply(lambda x: all([e[\"solution\"] is None for e in x]))]"
   ]
  },
  {
   "cell_type": "code",
   "execution_count": 7,
   "metadata": {},
   "outputs": [],
   "source": [
    "dataframe_base.drop(dataframe_base[dataframe_base[\"examples\"].apply(lambda x: all([e[\"solution\"] is None for e in x]))].index, inplace=True)"
   ]
  },
  {
   "cell_type": "code",
   "execution_count": 8,
   "metadata": {},
   "outputs": [],
   "source": [
    "dataframe_instruct.drop(dataframe_instruct[dataframe_instruct[\"examples\"].apply(lambda x: all([e[\"solution\"] is None for e in x]))].index, inplace=True)"
   ]
  },
  {
   "cell_type": "code",
   "execution_count": 9,
   "metadata": {},
   "outputs": [],
   "source": [
    "def make_map_fn(split):\n",
    "    def process_fn(row):\n",
    "        data = {\n",
    "            \"data_source\": \"dannkoh/ConStruct-Base\",\n",
    "            \"prompt\": [{\"role\": \"user\", \"content\": row[\"question\"]}],\n",
    "            \"ability\": \"generalisation\",\n",
    "            \"reward_model\": {\"style\": \"rule\", \"ground_truth\": row[\"answer_solution\"]},\n",
    "            \"extra_info\": {\n",
    "                \"answer_constants\": row[\"answer_constants\"],\n",
    "                \"answer_index\": row[\"answer_index\"],\n",
    "                \"example_indices\": row[\"example_indices\"],\n",
    "            },\n",
    "        }\n",
    "        return data\n",
    "\n",
    "    return process_fn"
   ]
  },
  {
   "cell_type": "code",
   "execution_count": 10,
   "metadata": {},
   "outputs": [],
   "source": [
    "# Split df_instruct\n",
    "train_instruct = dataframe_instruct.sample(frac=0.75, random_state=0)\n",
    "test_instruct = dataframe_instruct.drop(train_instruct.index)\n",
    "\n",
    "# Split df_plain\n",
    "train_plain = dataframe_base.sample(frac=0.75, random_state=0)\n",
    "test_plain = dataframe_base.drop(train_plain.index)\n",
    "\n",
    "# Apply `make_map_fn()` to generate datasets\n",
    "train_dataset_instruct = pd.DataFrame(train_instruct.apply(make_map_fn(\"train\"), axis=1).tolist())\n",
    "test_dataset_instruct = pd.DataFrame(test_instruct.apply(make_map_fn(\"test\"), axis=1).tolist())\n",
    "\n",
    "train_dataset_plain = pd.DataFrame(train_plain.apply(make_map_fn(\"train\"), axis=1).tolist())\n",
    "test_dataset_plain = pd.DataFrame(test_plain.apply(make_map_fn(\"test\"), axis=1).tolist())\n"
   ]
  },
  {
   "cell_type": "markdown",
   "metadata": {},
   "source": [
    "Upload to HuggingFace Datasets"
   ]
  },
  {
   "cell_type": "code",
   "execution_count": null,
   "metadata": {},
   "outputs": [
    {
     "name": "stdout",
     "output_type": "stream",
     "text": [
      "The token has not been saved to the git credentials helper. Pass `add_to_git_credential=True` in this function directly or `--add-to-git-credential` if using via `huggingface-cli` if you want to set the git credential as well.\n",
      "Token is valid (permission: write).\n",
      "The token `writer` has been saved to /home/jovyan/.cache/huggingface/stored_tokens\n",
      "Your token has been saved to /home/jovyan/.cache/huggingface/token\n",
      "Login successful.\n",
      "The current active token is: `writer`\n"
     ]
    },
    {
     "data": {
      "application/vnd.jupyter.widget-view+json": {
       "model_id": "e9c46b9916d44e21a624fc4e16e8f5ea",
       "version_major": 2,
       "version_minor": 0
      },
      "text/plain": [
       "Uploading the dataset shards:   0%|          | 0/1 [00:00<?, ?it/s]"
      ]
     },
     "metadata": {},
     "output_type": "display_data"
    },
    {
     "data": {
      "application/vnd.jupyter.widget-view+json": {
       "model_id": "4335095ed88b4fda8ffbbb5327d3c8f5",
       "version_major": 2,
       "version_minor": 0
      },
      "text/plain": [
       "Creating parquet from Arrow format:   0%|          | 0/6 [00:00<?, ?ba/s]"
      ]
     },
     "metadata": {},
     "output_type": "display_data"
    },
    {
     "data": {
      "application/vnd.jupyter.widget-view+json": {
       "model_id": "008d88377bb44c0fb6c15b5a23826694",
       "version_major": 2,
       "version_minor": 0
      },
      "text/plain": [
       "Uploading the dataset shards:   0%|          | 0/1 [00:00<?, ?it/s]"
      ]
     },
     "metadata": {},
     "output_type": "display_data"
    },
    {
     "data": {
      "application/vnd.jupyter.widget-view+json": {
       "model_id": "c152a0856c0c47f7a7e92362b396f49a",
       "version_major": 2,
       "version_minor": 0
      },
      "text/plain": [
       "Creating parquet from Arrow format:   0%|          | 0/18 [00:00<?, ?ba/s]"
      ]
     },
     "metadata": {},
     "output_type": "display_data"
    },
    {
     "data": {
      "application/vnd.jupyter.widget-view+json": {
       "model_id": "384a401f33f04efaad22e1f3d9d4ab5b",
       "version_major": 2,
       "version_minor": 0
      },
      "text/plain": [
       "Uploading the dataset shards:   0%|          | 0/1 [00:00<?, ?it/s]"
      ]
     },
     "metadata": {},
     "output_type": "display_data"
    },
    {
     "data": {
      "application/vnd.jupyter.widget-view+json": {
       "model_id": "5870dcfb9c784560a2ae218fcea1a2b1",
       "version_major": 2,
       "version_minor": 0
      },
      "text/plain": [
       "Creating parquet from Arrow format:   0%|          | 0/6 [00:00<?, ?ba/s]"
      ]
     },
     "metadata": {},
     "output_type": "display_data"
    },
    {
     "data": {
      "application/vnd.jupyter.widget-view+json": {
       "model_id": "28719ae2e2804404bed5a55271379972",
       "version_major": 2,
       "version_minor": 0
      },
      "text/plain": [
       "Uploading the dataset shards:   0%|          | 0/1 [00:00<?, ?it/s]"
      ]
     },
     "metadata": {},
     "output_type": "display_data"
    },
    {
     "data": {
      "application/vnd.jupyter.widget-view+json": {
       "model_id": "deeea6702706493985cc22a7cb430a5f",
       "version_major": 2,
       "version_minor": 0
      },
      "text/plain": [
       "Creating parquet from Arrow format:   0%|          | 0/18 [00:00<?, ?ba/s]"
      ]
     },
     "metadata": {},
     "output_type": "display_data"
    },
    {
     "data": {
      "text/plain": [
       "CommitInfo(commit_url='https://huggingface.co/datasets/dannkoh/invaR1ant-easy/commit/aab4c9174243d2465e9724c3136ac9cafc7c3681', commit_message='Upload dataset', commit_description='', oid='aab4c9174243d2465e9724c3136ac9cafc7c3681', pr_url=None, repo_url=RepoUrl('https://huggingface.co/datasets/dannkoh/invaR1ant-easy', endpoint='https://huggingface.co', repo_type='dataset', repo_id='dannkoh/invaR1ant-easy'), pr_revision=None, pr_num=None)"
      ]
     },
     "execution_count": 16,
     "metadata": {},
     "output_type": "execute_result"
    }
   ],
   "source": [
    "# from datasets import DatasetDict, Dataset\n",
    "\n",
    "\n",
    "# datasetdict= DatasetDict({\n",
    "#     \"instruct.test\": Dataset.from_pandas(test_dataset_instruct),\n",
    "#     \"instruct.train\": Dataset.from_pandas(train_dataset_instruct),\n",
    "#     \"base.test\": Dataset.from_pandas(test_dataset_plain),\n",
    "#     \"base.train\": Dataset.from_pandas(train_dataset_plain),\n",
    "# })\n",
    "\n",
    "# datasetdict.push_to_hub(\"dannkoh/invaR1ant-easy\")"
   ]
  }
 ],
 "metadata": {
  "kernelspec": {
   "display_name": "Python 3 (ipykernel)",
   "language": "python",
   "name": "python3"
  }
 },
 "nbformat": 4,
 "nbformat_minor": 2
}
